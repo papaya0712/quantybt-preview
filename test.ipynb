{
 "cells": [
  {
   "cell_type": "code",
   "execution_count": null,
   "id": "94a50d4e",
   "metadata": {},
   "outputs": [],
   "source": [
    "from IPython.display import display, Math\n",
    "\n",
    "display(Math(r\"\\text{CVaR}_{\\alpha} = \\mathbb{E}[X \\,|\\, X \\leq -\\text{VaR}_{\\alpha}]\"))"
   ]
  }
 ],
 "metadata": {
  "kernelspec": {
   "display_name": ".qbt_preview_venv",
   "language": "python",
   "name": "python3"
  },
  "language_info": {
   "name": "python",
   "version": "3.11.9"
  }
 },
 "nbformat": 4,
 "nbformat_minor": 5
}
