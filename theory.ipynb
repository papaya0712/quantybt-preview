{
 "cells": [
  {
   "cell_type": "markdown",
   "id": "439bf5f8",
   "metadata": {},
   "source": [
    "# Some interesting background theory\n",
    "\n",
    "This document outlines the theoretical foundations used the framework, including metric definitions/interpretations statistical methods and algorithms\n",
    "\n",
    "---\n"
   ]
  },
  {
   "cell_type": "markdown",
   "id": "f5901877",
   "metadata": {},
   "source": [
    "# Basics\n",
    "### Sharpe Ratio\n",
    "$$\n",
    "\\text{Sharpe} = \\frac{(\\mathbb{E}[r] - r_f)}{\\sigma} \\cdot \\sqrt{T}\n",
    "$$\n",
    "\n",
    "Where:\n",
    "\n",
    "- $\\mathbb{E}[r]$: expected return  \n",
    "- $\\sigma$: standard deviation  \n",
    "- $T$: annualization factor (using 365 days as base for crypto)\n",
    "- $r_f$: risk-free return rate which usually derived from treasury bills. for crypto its typically 0 \n",
    "\n",
    "### Sortino Ratio\n",
    "\n",
    "$$\n",
    "\\text{Sortino} = \\frac{(\\mathbb{E}[r] - r_f)}{\\sigma_{\\text{down}}} \\cdot \\sqrt{T}\n",
    "$$\n",
    "\n",
    "Where:\n",
    "\n",
    "- $\\sigma_{\\text{down}}$: downside standard deviation (only measures negative return deviations)\n",
    "\n",
    "Unlike the Sharpe Ratio, the Sortino Ratio **only penalizes downside volatility**, which is a more realistic risk measure, especially for strategies with asymmetric return distributions.\n",
    "\n",
    "### Calmar Ratio\n",
    "\n",
    "$$\n",
    "\\text{Calmar} = \\frac{\\text{CAGR}}{|\\text{Max Drawdown}|}, \\quad \\text{where} \\quad \n",
    "\\text{CAGR} = \\left(1 + \\text{Cumulative Return} \\right)^{T / N} - 1\n",
    "$$\n",
    "\n",
    "Where:\n",
    "- $N$: total number of periods in the return series\n",
    "- Cumulative Return = $\\prod (1 + r_t) - 1$\n",
    "\n",
    "---"
   ]
  }
 ],
 "metadata": {
  "language_info": {
   "name": "python"
  }
 },
 "nbformat": 4,
 "nbformat_minor": 5
}
